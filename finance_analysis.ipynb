{
 "cells": [
  {
   "cell_type": "code",
   "execution_count": null,
   "metadata": {},
   "outputs": [],
   "source": [
    "# Import necessary libraries and functions\n",
    "from main import *  # Your main functions from the project\n",
    "from data_entry import get_amount, get_category, get_date, get_description\n",
    "import pandas as pd\n",
    "import matplotlib.pyplot as plt\n",
    "import seaborn as sns\n",
    "\n",
    "# Load the CSV file into a DataFrame\n",
    "df = pd.read_csv('finance_data.csv')\n",
    "\n",
    "# Convert the 'date' column to datetime for easy plotting\n",
    "df['date'] = pd.to_datetime(df['date'], format=\"%d/%m/%Y\")\n",
    "\n",
    "# Display the first few rows of the DataFrame to check if data is loaded properly\n",
    "print(df.head())\n",
    "\n",
    "# Separate income and expense data into two DataFrames\n",
    "income_df = df[df['category'] == 'Income']\n",
    "expense_df = df[df['category'] == 'Expense']\n",
    "\n",
    "# Plotting Income vs Expense over time\n",
    "plt.figure(figsize=(12, 6))\n",
    "\n",
    "# Plot Income (Green)\n",
    "plt.plot(income_df['date'], income_df['amount'], label='Income', color='g')\n",
    "\n",
    "# Plot Expense (Red)\n",
    "plt.plot(expense_df['date'], expense_df['amount'], label='Expense', color='r')\n",
    "\n",
    "plt.xlabel('Date')\n",
    "plt.ylabel('Amount')\n",
    "plt.title('Income and Expenses Over Time')\n",
    "plt.legend()\n",
    "plt.grid(True)\n",
    "\n",
    "# Show the plot\n",
    "plt.show()\n",
    "\n",
    "# Example of adding a new entry (manually, but you can replace with user input if needed)\n",
    "date = \"01/01/2025\"\n",
    "amount = 1000.0\n",
    "category = \"Income\"\n",
    "description = \"Salary for January\"\n",
    "\n",
    "# Add the new entry to the CSV and DataFrame\n",
    "add_entry(date, amount, category, description)\n",
    "\n",
    "# After adding an entry, refresh the DataFrame\n",
    "df = pd.read_csv('finance_data.csv')\n"
   ]
  }
 ],
 "metadata": {
  "kernelspec": {
   "display_name": "Python 3",
   "language": "python",
   "name": "python3"
  },
  "language_info": {
   "name": "python",
   "version": "3.12.3"
  }
 },
 "nbformat": 4,
 "nbformat_minor": 2
}
